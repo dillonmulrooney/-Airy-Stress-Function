{
 "cells": [
  {
   "cell_type": "code",
   "execution_count": 16,
   "id": "arbitrary-great",
   "metadata": {},
   "outputs": [
    {
     "name": "stdout",
     "output_type": "stream",
     "text": [
      "120*a15*x*y + 72*a33*x*y\n",
      "-0.0110777777777778*Po*y**2 - a11 - 5*a15*y**4 - 3*a31*x**2 - 9*a33*x**2*y**2\n",
      "6*x*(a30 + a31*y + a33*y**3)\n"
     ]
    }
   ],
   "source": [
    "import numpy as np\n",
    "from sympy import *\n",
    "\n",
    "\n",
    "L = 300.00 # cm\n",
    "h = 30.00 # cm\n",
    "E = 110.00 # GPa\n",
    "nu = 0.21 # \n",
    "\n",
    "a11, a30, a31, a51, a13, a15, a22, a33, a42, x, y, Po = symbols('a11 a30 a31 a51 a13 a15 a22 a33 a42 x y Po', real = True)\n",
    "a22 = 0\n",
    "a42 = 0\n",
    "a51 = 0\n",
    "\n",
    "#Po = 295 uncomment this to slve for coeffients, must comment it out to solve for plane stress and plane strain\n",
    "a13 = ((Po/(h**3*L))*(L**2/3-h**2/10)) #given in the problem\n",
    "phi = a11*x*y + a30*x**3 + a31*x**3*y + a51*x**5*y + a13*x*y**3+a15*x*y**5+a22*x**2*y**2+a33*x**3*y**3+a42*x**4*y**2\n",
    "\n",
    "term1 = diff(phi, x, 4)\n",
    "term2 = diff(phi, x, 2, y, 2) # all terms from bi harmonic equation\n",
    "term3 = diff(phi, y, 4)\n",
    "\n",
    "comp = term1+ 2*term2+term3\n",
    "print(comp)\n",
    "\n",
    "sigma11 = diff(phi, y, 2)\n",
    "sigma12 = -diff(phi, x, 1, y, 1) # stresses given on eqution sheet for airy stress funciton\n",
    "sigma22 = diff(phi, x, 2)\n",
    "\n",
    "print(sigma12) # want to print results and factor out common terms to figure out which one goes to zero, in this case it will be a51, a42, a22 (this is not true for all cases)\n",
    "print(sigma22) # once you figure out which terms go to zero, you can define them under the symbols line and above phi equaiton. "
   ]
  },
  {
   "cell_type": "code",
   "execution_count": 17,
   "id": "productive-nutrition",
   "metadata": {},
   "outputs": [
    {
     "data": {
      "text/plain": [
       "{a11: -2.49375*Po,\n",
       " a31: 2.77777777777778e-5*Po,\n",
       " a15: 2.46913580246914e-8*Po,\n",
       " a33: -4.11522633744856e-8*Po,\n",
       " a30: -0.000277777777777778*Po}"
      ]
     },
     "execution_count": 17,
     "metadata": {},
     "output_type": "execute_result"
    }
   ],
   "source": [
    "eq1 = Eq(6*a30+6*a31*(h/2)+6*a33*(h/2)**3, 0)\n",
    "eq2 = Eq(6*a30+6*a31*(-h/2)+6*a33*(-h/2)**3, -Po/L)\n",
    "eq3 = Eq(-a11-3*a13*(h/2)**2-a15*(h/2)**4, 0)\n",
    "eq4 = Eq(-3*a31-9*a33*(h/2)**2,0)\n",
    "eq5 = Eq(120*a15+120*a51+72*a33,0)\n",
    "\n",
    "sol = solve((eq1, eq2,eq3, eq4, eq5 ),(a11, a31,a15, a33, a30))\n",
    "sol"
   ]
  },
  {
   "cell_type": "code",
   "execution_count": 23,
   "id": "former-wright",
   "metadata": {},
   "outputs": [
    {
     "name": "stdout",
     "output_type": "stream",
     "text": [
      "[-8.87803905938621, 8.87803905938621]\n",
      "[-9.72093391687577, 9.72093391687577]\n",
      "[-8.87803905938621, 8.87803905938621]\n"
     ]
    }
   ],
   "source": [
    "a_11 = sol[a11]\n",
    "a_31 = sol[a31]\n",
    "a_15 = sol[a15]\n",
    "a_33 = sol[a33]\n",
    "a_30 = sol[a30]\n",
    "a_13 = a13\n",
    "a_42 = 0\n",
    "a_51 = 0\n",
    "a_24 = 0\n",
    "sigma_c = 330\n",
    "\n",
    "phi_new = phi.subs({a11:a_11, a31:a_31, a15:a_15, a33:a_33, a30:a_30})\n",
    "\n",
    "sigma11 = diff(phi_new, y, 2)\n",
    "sigma12 = -diff(phi_new, x, 1, y, 1)\n",
    "sigma22 = diff(phi_new, x, 2)\n",
    "\n",
    "sigma11 = sigma11.subs({x:2*L/3, y:h/2})\n",
    "sigma12 = sigma12.subs({x:2*L/3, y:h/2})\n",
    "sigma22 = sigma22.subs({x:2*L/3, y:h/2})\n",
    "\n",
    "#plane stress = \n",
    "#since this subsribes to von mises we use the relation for tau and simga c, note plane stress sigma33 = 0\n",
    "tau = (1/3)*(sqrt(((sigma11-sigma22)**2+(sigma22)**2+(sigma11)**2)))\n",
    "eq6 = Eq(tau, (sqrt(2)/3)*sigma_c)\n",
    "sol_3 = solve(eq6, Po)\n",
    "print(sol_3)\n",
    "\n",
    "#plane strain, use relation for simga 33 in von mises criterion\n",
    "sigma33 = nu*(sigma11)\n",
    "tau = (1/3)*(sqrt((sigma11-sigma22)**2+(sigma22-sigma33)**2+(sigma11-sigma33)**2))\n",
    "eq7 = Eq(tau, (sqrt(2)/3)*sigma_c )\n",
    "sol_4 = solve(eq7, Po)\n",
    "print(sol_4)\n",
    "\n"
   ]
  },
  {
   "cell_type": "code",
   "execution_count": null,
   "id": "demonstrated-douglas",
   "metadata": {},
   "outputs": [],
   "source": []
  }
 ],
 "metadata": {
  "kernelspec": {
   "display_name": "Python 3",
   "language": "python",
   "name": "python3"
  },
  "language_info": {
   "codemirror_mode": {
    "name": "ipython",
    "version": 3
   },
   "file_extension": ".py",
   "mimetype": "text/x-python",
   "name": "python",
   "nbconvert_exporter": "python",
   "pygments_lexer": "ipython3",
   "version": "3.8.6"
  }
 },
 "nbformat": 4,
 "nbformat_minor": 5
}
